{
 "cells": [
  {
   "cell_type": "markdown",
   "metadata": {},
   "source": [
    "# Kelly Criterion Example on Apple, Microsoft, Tesla, and S&P 500\n",
    "\n",
    "## Not including Risk-Free Rate of Return"
   ]
  },
  {
   "cell_type": "code",
   "execution_count": 385,
   "metadata": {},
   "outputs": [],
   "source": [
    "import pandas as pd\n",
    "import yfinance as yf\n",
    "from yahoofinancials import YahooFinancials\n",
    "from numpy.linalg import inv"
   ]
  },
  {
   "cell_type": "markdown",
   "metadata": {},
   "source": [
    "First step is to download stock data from Yahoo Finance. This program works for any stock we want, I just used Apple, Microsoft, Tesla, and S&P 500 as an example."
   ]
  },
  {
   "cell_type": "code",
   "execution_count": 386,
   "metadata": {},
   "outputs": [
    {
     "name": "stdout",
     "output_type": "stream",
     "text": [
      "[*********************100%***********************]  5 of 5 completed\n"
     ]
    }
   ],
   "source": [
    "df = yf.download('''\n",
    "AAPL\n",
    "MSFT\n",
    "SPY\n",
    "TSLA\n",
    "AMZN\n",
    "''', start = '2010-01-01')"
   ]
  },
  {
   "cell_type": "markdown",
   "metadata": {},
   "source": [
    "The table below is price data for the stocks in question from 2010 to the present."
   ]
  },
  {
   "cell_type": "code",
   "execution_count": 380,
   "metadata": {},
   "outputs": [
    {
     "data": {
      "text/html": [
       "<div>\n",
       "<style scoped>\n",
       "    .dataframe tbody tr th:only-of-type {\n",
       "        vertical-align: middle;\n",
       "    }\n",
       "\n",
       "    .dataframe tbody tr th {\n",
       "        vertical-align: top;\n",
       "    }\n",
       "\n",
       "    .dataframe thead tr th {\n",
       "        text-align: left;\n",
       "    }\n",
       "\n",
       "    .dataframe thead tr:last-of-type th {\n",
       "        text-align: right;\n",
       "    }\n",
       "</style>\n",
       "<table border=\"1\" class=\"dataframe\">\n",
       "  <thead>\n",
       "    <tr>\n",
       "      <th></th>\n",
       "      <th colspan=\"5\" halign=\"left\">Adj Close</th>\n",
       "      <th colspan=\"5\" halign=\"left\">Close</th>\n",
       "      <th>...</th>\n",
       "      <th colspan=\"5\" halign=\"left\">Open</th>\n",
       "      <th colspan=\"5\" halign=\"left\">Volume</th>\n",
       "    </tr>\n",
       "    <tr>\n",
       "      <th></th>\n",
       "      <th>AAPL</th>\n",
       "      <th>AMZN</th>\n",
       "      <th>MSFT</th>\n",
       "      <th>SPY</th>\n",
       "      <th>TSLA</th>\n",
       "      <th>AAPL</th>\n",
       "      <th>AMZN</th>\n",
       "      <th>MSFT</th>\n",
       "      <th>SPY</th>\n",
       "      <th>TSLA</th>\n",
       "      <th>...</th>\n",
       "      <th>AAPL</th>\n",
       "      <th>AMZN</th>\n",
       "      <th>MSFT</th>\n",
       "      <th>SPY</th>\n",
       "      <th>TSLA</th>\n",
       "      <th>AAPL</th>\n",
       "      <th>AMZN</th>\n",
       "      <th>MSFT</th>\n",
       "      <th>SPY</th>\n",
       "      <th>TSLA</th>\n",
       "    </tr>\n",
       "    <tr>\n",
       "      <th>Date</th>\n",
       "      <th></th>\n",
       "      <th></th>\n",
       "      <th></th>\n",
       "      <th></th>\n",
       "      <th></th>\n",
       "      <th></th>\n",
       "      <th></th>\n",
       "      <th></th>\n",
       "      <th></th>\n",
       "      <th></th>\n",
       "      <th></th>\n",
       "      <th></th>\n",
       "      <th></th>\n",
       "      <th></th>\n",
       "      <th></th>\n",
       "      <th></th>\n",
       "      <th></th>\n",
       "      <th></th>\n",
       "      <th></th>\n",
       "      <th></th>\n",
       "      <th></th>\n",
       "    </tr>\n",
       "  </thead>\n",
       "  <tbody>\n",
       "    <tr>\n",
       "      <th>2010-01-04</th>\n",
       "      <td>26.466835</td>\n",
       "      <td>133.899994</td>\n",
       "      <td>24.226894</td>\n",
       "      <td>91.841896</td>\n",
       "      <td>NaN</td>\n",
       "      <td>30.572857</td>\n",
       "      <td>133.899994</td>\n",
       "      <td>30.950001</td>\n",
       "      <td>113.330002</td>\n",
       "      <td>NaN</td>\n",
       "      <td>...</td>\n",
       "      <td>30.490000</td>\n",
       "      <td>136.250000</td>\n",
       "      <td>30.620001</td>\n",
       "      <td>112.370003</td>\n",
       "      <td>NaN</td>\n",
       "      <td>123432400</td>\n",
       "      <td>7599900</td>\n",
       "      <td>38409100</td>\n",
       "      <td>118944600</td>\n",
       "      <td>NaN</td>\n",
       "    </tr>\n",
       "    <tr>\n",
       "      <th>2010-01-05</th>\n",
       "      <td>26.512596</td>\n",
       "      <td>134.690002</td>\n",
       "      <td>24.234720</td>\n",
       "      <td>92.084984</td>\n",
       "      <td>NaN</td>\n",
       "      <td>30.625713</td>\n",
       "      <td>134.690002</td>\n",
       "      <td>30.959999</td>\n",
       "      <td>113.629997</td>\n",
       "      <td>NaN</td>\n",
       "      <td>...</td>\n",
       "      <td>30.657143</td>\n",
       "      <td>133.429993</td>\n",
       "      <td>30.850000</td>\n",
       "      <td>113.260002</td>\n",
       "      <td>NaN</td>\n",
       "      <td>150476200</td>\n",
       "      <td>8851900</td>\n",
       "      <td>49749600</td>\n",
       "      <td>111579900</td>\n",
       "      <td>NaN</td>\n",
       "    </tr>\n",
       "    <tr>\n",
       "      <th>2010-01-06</th>\n",
       "      <td>26.090879</td>\n",
       "      <td>132.250000</td>\n",
       "      <td>24.085989</td>\n",
       "      <td>92.149803</td>\n",
       "      <td>NaN</td>\n",
       "      <td>30.138571</td>\n",
       "      <td>132.250000</td>\n",
       "      <td>30.770000</td>\n",
       "      <td>113.709999</td>\n",
       "      <td>NaN</td>\n",
       "      <td>...</td>\n",
       "      <td>30.625713</td>\n",
       "      <td>134.600006</td>\n",
       "      <td>30.879999</td>\n",
       "      <td>113.519997</td>\n",
       "      <td>NaN</td>\n",
       "      <td>138040000</td>\n",
       "      <td>7178800</td>\n",
       "      <td>58182400</td>\n",
       "      <td>116074400</td>\n",
       "      <td>NaN</td>\n",
       "    </tr>\n",
       "    <tr>\n",
       "      <th>2010-01-07</th>\n",
       "      <td>26.042646</td>\n",
       "      <td>130.000000</td>\n",
       "      <td>23.835503</td>\n",
       "      <td>92.538841</td>\n",
       "      <td>NaN</td>\n",
       "      <td>30.082857</td>\n",
       "      <td>130.000000</td>\n",
       "      <td>30.450001</td>\n",
       "      <td>114.190002</td>\n",
       "      <td>NaN</td>\n",
       "      <td>...</td>\n",
       "      <td>30.250000</td>\n",
       "      <td>132.009995</td>\n",
       "      <td>30.629999</td>\n",
       "      <td>113.500000</td>\n",
       "      <td>NaN</td>\n",
       "      <td>119282800</td>\n",
       "      <td>11030200</td>\n",
       "      <td>50559700</td>\n",
       "      <td>131091100</td>\n",
       "      <td>NaN</td>\n",
       "    </tr>\n",
       "    <tr>\n",
       "      <th>2010-01-08</th>\n",
       "      <td>26.215786</td>\n",
       "      <td>133.520004</td>\n",
       "      <td>23.999893</td>\n",
       "      <td>92.846756</td>\n",
       "      <td>NaN</td>\n",
       "      <td>30.282858</td>\n",
       "      <td>133.520004</td>\n",
       "      <td>30.660000</td>\n",
       "      <td>114.570000</td>\n",
       "      <td>NaN</td>\n",
       "      <td>...</td>\n",
       "      <td>30.042856</td>\n",
       "      <td>130.559998</td>\n",
       "      <td>30.280001</td>\n",
       "      <td>113.889999</td>\n",
       "      <td>NaN</td>\n",
       "      <td>111902700</td>\n",
       "      <td>9830500</td>\n",
       "      <td>51197400</td>\n",
       "      <td>126402800</td>\n",
       "      <td>NaN</td>\n",
       "    </tr>\n",
       "    <tr>\n",
       "      <th>...</th>\n",
       "      <td>...</td>\n",
       "      <td>...</td>\n",
       "      <td>...</td>\n",
       "      <td>...</td>\n",
       "      <td>...</td>\n",
       "      <td>...</td>\n",
       "      <td>...</td>\n",
       "      <td>...</td>\n",
       "      <td>...</td>\n",
       "      <td>...</td>\n",
       "      <td>...</td>\n",
       "      <td>...</td>\n",
       "      <td>...</td>\n",
       "      <td>...</td>\n",
       "      <td>...</td>\n",
       "      <td>...</td>\n",
       "      <td>...</td>\n",
       "      <td>...</td>\n",
       "      <td>...</td>\n",
       "      <td>...</td>\n",
       "      <td>...</td>\n",
       "    </tr>\n",
       "    <tr>\n",
       "      <th>2020-07-15</th>\n",
       "      <td>390.899994</td>\n",
       "      <td>3008.870117</td>\n",
       "      <td>208.039993</td>\n",
       "      <td>321.850006</td>\n",
       "      <td>1546.010010</td>\n",
       "      <td>390.899994</td>\n",
       "      <td>3008.870117</td>\n",
       "      <td>208.039993</td>\n",
       "      <td>321.850006</td>\n",
       "      <td>1546.010010</td>\n",
       "      <td>...</td>\n",
       "      <td>395.959991</td>\n",
       "      <td>3080.229980</td>\n",
       "      <td>209.559998</td>\n",
       "      <td>322.410004</td>\n",
       "      <td>1543.000000</td>\n",
       "      <td>38299500</td>\n",
       "      <td>5788900</td>\n",
       "      <td>32179400</td>\n",
       "      <td>87196500</td>\n",
       "      <td>16367800.0</td>\n",
       "    </tr>\n",
       "    <tr>\n",
       "      <th>2020-07-16</th>\n",
       "      <td>386.089996</td>\n",
       "      <td>2999.899902</td>\n",
       "      <td>203.919998</td>\n",
       "      <td>320.790009</td>\n",
       "      <td>1500.640015</td>\n",
       "      <td>386.089996</td>\n",
       "      <td>2999.899902</td>\n",
       "      <td>203.919998</td>\n",
       "      <td>320.790009</td>\n",
       "      <td>1500.640015</td>\n",
       "      <td>...</td>\n",
       "      <td>386.250000</td>\n",
       "      <td>2971.060059</td>\n",
       "      <td>205.399994</td>\n",
       "      <td>319.790009</td>\n",
       "      <td>1477.160034</td>\n",
       "      <td>27644400</td>\n",
       "      <td>6394200</td>\n",
       "      <td>29940700</td>\n",
       "      <td>54622500</td>\n",
       "      <td>14300800.0</td>\n",
       "    </tr>\n",
       "    <tr>\n",
       "      <th>2020-07-17</th>\n",
       "      <td>385.309998</td>\n",
       "      <td>2961.969971</td>\n",
       "      <td>202.880005</td>\n",
       "      <td>321.720001</td>\n",
       "      <td>1500.839966</td>\n",
       "      <td>385.309998</td>\n",
       "      <td>2961.969971</td>\n",
       "      <td>202.880005</td>\n",
       "      <td>321.720001</td>\n",
       "      <td>1500.839966</td>\n",
       "      <td>...</td>\n",
       "      <td>387.950012</td>\n",
       "      <td>3009.000000</td>\n",
       "      <td>204.470001</td>\n",
       "      <td>321.880005</td>\n",
       "      <td>1513.449951</td>\n",
       "      <td>23046700</td>\n",
       "      <td>4761300</td>\n",
       "      <td>31635300</td>\n",
       "      <td>62774900</td>\n",
       "      <td>9330000.0</td>\n",
       "    </tr>\n",
       "    <tr>\n",
       "      <th>2020-07-20</th>\n",
       "      <td>393.429993</td>\n",
       "      <td>3196.840088</td>\n",
       "      <td>211.600006</td>\n",
       "      <td>324.320007</td>\n",
       "      <td>1643.000000</td>\n",
       "      <td>393.429993</td>\n",
       "      <td>3196.840088</td>\n",
       "      <td>211.600006</td>\n",
       "      <td>324.320007</td>\n",
       "      <td>1643.000000</td>\n",
       "      <td>...</td>\n",
       "      <td>385.670013</td>\n",
       "      <td>3000.199951</td>\n",
       "      <td>205.000000</td>\n",
       "      <td>321.429993</td>\n",
       "      <td>1519.010010</td>\n",
       "      <td>22531700</td>\n",
       "      <td>7578900</td>\n",
       "      <td>36801800</td>\n",
       "      <td>56216100</td>\n",
       "      <td>17044800.0</td>\n",
       "    </tr>\n",
       "    <tr>\n",
       "      <th>2020-07-21</th>\n",
       "      <td>388.000000</td>\n",
       "      <td>3138.290039</td>\n",
       "      <td>208.750000</td>\n",
       "      <td>325.010010</td>\n",
       "      <td>1568.359985</td>\n",
       "      <td>388.000000</td>\n",
       "      <td>3138.290039</td>\n",
       "      <td>208.750000</td>\n",
       "      <td>325.010010</td>\n",
       "      <td>1568.359985</td>\n",
       "      <td>...</td>\n",
       "      <td>396.690002</td>\n",
       "      <td>3232.489990</td>\n",
       "      <td>213.660004</td>\n",
       "      <td>326.450012</td>\n",
       "      <td>1639.930054</td>\n",
       "      <td>25207600</td>\n",
       "      <td>6023714</td>\n",
       "      <td>36663976</td>\n",
       "      <td>50559362</td>\n",
       "      <td>15987757.0</td>\n",
       "    </tr>\n",
       "  </tbody>\n",
       "</table>\n",
       "<p>2655 rows × 30 columns</p>\n",
       "</div>"
      ],
      "text/plain": [
       "             Adj Close                                                    \\\n",
       "                  AAPL         AMZN        MSFT         SPY         TSLA   \n",
       "Date                                                                       \n",
       "2010-01-04   26.466835   133.899994   24.226894   91.841896          NaN   \n",
       "2010-01-05   26.512596   134.690002   24.234720   92.084984          NaN   \n",
       "2010-01-06   26.090879   132.250000   24.085989   92.149803          NaN   \n",
       "2010-01-07   26.042646   130.000000   23.835503   92.538841          NaN   \n",
       "2010-01-08   26.215786   133.520004   23.999893   92.846756          NaN   \n",
       "...                ...          ...         ...         ...          ...   \n",
       "2020-07-15  390.899994  3008.870117  208.039993  321.850006  1546.010010   \n",
       "2020-07-16  386.089996  2999.899902  203.919998  320.790009  1500.640015   \n",
       "2020-07-17  385.309998  2961.969971  202.880005  321.720001  1500.839966   \n",
       "2020-07-20  393.429993  3196.840088  211.600006  324.320007  1643.000000   \n",
       "2020-07-21  388.000000  3138.290039  208.750000  325.010010  1568.359985   \n",
       "\n",
       "                 Close                                                    ...  \\\n",
       "                  AAPL         AMZN        MSFT         SPY         TSLA  ...   \n",
       "Date                                                                      ...   \n",
       "2010-01-04   30.572857   133.899994   30.950001  113.330002          NaN  ...   \n",
       "2010-01-05   30.625713   134.690002   30.959999  113.629997          NaN  ...   \n",
       "2010-01-06   30.138571   132.250000   30.770000  113.709999          NaN  ...   \n",
       "2010-01-07   30.082857   130.000000   30.450001  114.190002          NaN  ...   \n",
       "2010-01-08   30.282858   133.520004   30.660000  114.570000          NaN  ...   \n",
       "...                ...          ...         ...         ...          ...  ...   \n",
       "2020-07-15  390.899994  3008.870117  208.039993  321.850006  1546.010010  ...   \n",
       "2020-07-16  386.089996  2999.899902  203.919998  320.790009  1500.640015  ...   \n",
       "2020-07-17  385.309998  2961.969971  202.880005  321.720001  1500.839966  ...   \n",
       "2020-07-20  393.429993  3196.840088  211.600006  324.320007  1643.000000  ...   \n",
       "2020-07-21  388.000000  3138.290039  208.750000  325.010010  1568.359985  ...   \n",
       "\n",
       "                  Open                                                    \\\n",
       "                  AAPL         AMZN        MSFT         SPY         TSLA   \n",
       "Date                                                                       \n",
       "2010-01-04   30.490000   136.250000   30.620001  112.370003          NaN   \n",
       "2010-01-05   30.657143   133.429993   30.850000  113.260002          NaN   \n",
       "2010-01-06   30.625713   134.600006   30.879999  113.519997          NaN   \n",
       "2010-01-07   30.250000   132.009995   30.629999  113.500000          NaN   \n",
       "2010-01-08   30.042856   130.559998   30.280001  113.889999          NaN   \n",
       "...                ...          ...         ...         ...          ...   \n",
       "2020-07-15  395.959991  3080.229980  209.559998  322.410004  1543.000000   \n",
       "2020-07-16  386.250000  2971.060059  205.399994  319.790009  1477.160034   \n",
       "2020-07-17  387.950012  3009.000000  204.470001  321.880005  1513.449951   \n",
       "2020-07-20  385.670013  3000.199951  205.000000  321.429993  1519.010010   \n",
       "2020-07-21  396.690002  3232.489990  213.660004  326.450012  1639.930054   \n",
       "\n",
       "               Volume                                             \n",
       "                 AAPL      AMZN      MSFT        SPY        TSLA  \n",
       "Date                                                              \n",
       "2010-01-04  123432400   7599900  38409100  118944600         NaN  \n",
       "2010-01-05  150476200   8851900  49749600  111579900         NaN  \n",
       "2010-01-06  138040000   7178800  58182400  116074400         NaN  \n",
       "2010-01-07  119282800  11030200  50559700  131091100         NaN  \n",
       "2010-01-08  111902700   9830500  51197400  126402800         NaN  \n",
       "...               ...       ...       ...        ...         ...  \n",
       "2020-07-15   38299500   5788900  32179400   87196500  16367800.0  \n",
       "2020-07-16   27644400   6394200  29940700   54622500  14300800.0  \n",
       "2020-07-17   23046700   4761300  31635300   62774900   9330000.0  \n",
       "2020-07-20   22531700   7578900  36801800   56216100  17044800.0  \n",
       "2020-07-21   25207600   6023714  36663976   50559362  15987757.0  \n",
       "\n",
       "[2655 rows x 30 columns]"
      ]
     },
     "execution_count": 380,
     "metadata": {},
     "output_type": "execute_result"
    }
   ],
   "source": [
    "df"
   ]
  },
  {
   "cell_type": "markdown",
   "metadata": {},
   "source": [
    "Here, I use the price data to calculate daily returns of the stock (p_n - p_n-1). I then calculate the mean return for the data, graph both price and mean return."
   ]
  },
  {
   "cell_type": "code",
   "execution_count": 381,
   "metadata": {},
   "outputs": [],
   "source": [
    "df2 = df['Adj Close']"
   ]
  },
  {
   "cell_type": "code",
   "execution_count": 382,
   "metadata": {},
   "outputs": [
    {
     "data": {
      "text/plain": [
       "AAPL    0.001164\n",
       "AMZN    0.001387\n",
       "MSFT    0.000937\n",
       "SPY     0.000536\n",
       "TSLA    0.002252\n",
       "dtype: float64"
      ]
     },
     "execution_count": 382,
     "metadata": {},
     "output_type": "execute_result"
    }
   ],
   "source": [
    "daily_returns = df2.pct_change()\n",
    "#df2.plot(title = 'Stock Price Data')\n",
    "#daily_returns.plot(title = 'Daily Returns')\n",
    "daily_returns.mean()"
   ]
  },
  {
   "cell_type": "markdown",
   "metadata": {},
   "source": [
    "Next, I calculate the covariance matrix for the stock return data, and multiply it by the amount of days we are tracking the stocks. I print out the mean return for each stock, and the covariance matrix."
   ]
  },
  {
   "cell_type": "code",
   "execution_count": 383,
   "metadata": {},
   "outputs": [
    {
     "name": "stdout",
     "output_type": "stream",
     "text": [
      "AAPL    3.089406\n",
      "AMZN    3.681637\n",
      "MSFT    2.488543\n",
      "SPY     1.422518\n",
      "TSLA    5.977915\n",
      "dtype: float64\n",
      "          AAPL      AMZN      MSFT       SPY      TSLA\n",
      "AAPL  0.802643  0.395633  0.401627  0.332207  0.463878\n",
      "AMZN  0.395633  1.053781  0.433304  0.318777  0.565197\n",
      "MSFT  0.401627  0.433304  0.666672  0.341631  0.453253\n",
      "SPY   0.332207  0.318777  0.341631  0.314502  0.387344\n",
      "TSLA  0.463878  0.565197  0.453253  0.387344  3.199565\n"
     ]
    }
   ],
   "source": [
    "dc = daily_returns.cov()\n",
    "cov = dc * len(daily_returns)\n",
    "mean = daily_returns.mean() * len(daily_returns)\n",
    "print(mean)\n",
    "print(cov)"
   ]
  },
  {
   "cell_type": "markdown",
   "metadata": {},
   "source": [
    "Finally I dot the inverse of the covariance matrix and the mean return to find the Kelly leverages for each of the stocks."
   ]
  },
  {
   "cell_type": "code",
   "execution_count": 384,
   "metadata": {},
   "outputs": [
    {
     "name": "stdout",
     "output_type": "stream",
     "text": [
      "[ 3.10103499  2.60343335 -3.37721604  1.45880506]\n"
     ]
    },
    {
     "data": {
      "text/plain": [
       "AAPL    2.875742\n",
       "AMZN    2.284924\n",
       "MSFT    1.976333\n",
       "SPY    -4.610430\n",
       "TSLA    1.325971\n",
       "dtype: float64"
      ]
     },
     "execution_count": 384,
     "metadata": {},
     "output_type": "execute_result"
    }
   ],
   "source": [
    "lev = inv(cov).dot(mean)\n",
    "print(final)\n",
    "kc = pd.Series(lev, index = df2.columns)\n",
    "kc"
   ]
  },
  {
   "cell_type": "markdown",
   "metadata": {},
   "source": [
    "The Kelley leverages tell us the percentage of our endowment we should invest in each stock."
   ]
  },
  {
   "cell_type": "markdown",
   "metadata": {},
   "source": [
    "## With Risk-Free Rate of Return\n",
    "Here the process is the same, except we subtract teh risk-free rate of return from the mean return before calculating the Kelly leverages."
   ]
  },
  {
   "cell_type": "code",
   "execution_count": 390,
   "metadata": {},
   "outputs": [
    {
     "data": {
      "text/plain": [
       "AAPL    3.069406\n",
       "AMZN    3.661637\n",
       "MSFT    2.468543\n",
       "SPY     1.402518\n",
       "TSLA    5.957915\n",
       "dtype: float64"
      ]
     },
     "execution_count": 390,
     "metadata": {},
     "output_type": "execute_result"
    }
   ],
   "source": [
    "meanrisk = (daily_returns.mean() * len(daily_returns)) - .02\n",
    "meanrisk"
   ]
  },
  {
   "cell_type": "code",
   "execution_count": 393,
   "metadata": {},
   "outputs": [
    {
     "data": {
      "text/plain": [
       "AAPL    2.877635\n",
       "AMZN    2.284082\n",
       "MSFT    1.981975\n",
       "SPY    -4.683329\n",
       "TSLA    1.327621\n",
       "dtype: float64"
      ]
     },
     "execution_count": 393,
     "metadata": {},
     "output_type": "execute_result"
    }
   ],
   "source": [
    "levrisk = inv(cov).dot(meanrisk)\n",
    "kc = pd.Series(levrisk, index = df2.columns)\n",
    "kc"
   ]
  },
  {
   "cell_type": "markdown",
   "metadata": {},
   "source": [
    "# Kelly Criterion with Random Walks\n",
    "\n",
    "Here I do the same thing, but with a Brownian motion random walk instead of stock data."
   ]
  },
  {
   "cell_type": "code",
   "execution_count": 373,
   "metadata": {},
   "outputs": [],
   "source": [
    "import numpy as np\n",
    "import matplotlib.pyplot as plt\n",
    "import math"
   ]
  },
  {
   "cell_type": "code",
   "execution_count": 374,
   "metadata": {},
   "outputs": [
    {
     "data": {
      "text/plain": [
       "<matplotlib.axes._subplots.AxesSubplot at 0x12610a710>"
      ]
     },
     "execution_count": 374,
     "metadata": {},
     "output_type": "execute_result"
    },
    {
     "data": {
      "image/png": "[encoded data removed]",
      "text/plain": [
       "<Figure size 432x288 with 1 Axes>"
      ]
     },
     "metadata": {
      "needs_background": "light"
     },
     "output_type": "display_data"
    }
   ],
   "source": [
    "def brownian_path(N):\n",
    "    dt_sqrt = math.sqrt(1 / N)\n",
    "    Z = np.random.randn(N)\n",
    "    Z[0] = 1000\n",
    "    B = np.cumsum((dt_sqrt * Z) + .00159)\n",
    "    return B\n",
    "a = brownian_path(365)\n",
    "b = brownian_path(365) \n",
    "c = brownian_path(365) \n",
    "\n",
    "d = np.array(list(zip(a, b, c)))\n",
    "dfrand1 = pd.DataFrame(d)\n",
    "\n",
    "dfrand1.plot()"
   ]
  },
  {
   "cell_type": "code",
   "execution_count": 375,
   "metadata": {},
   "outputs": [
    {
     "data": {
      "text/plain": [
       "<matplotlib.axes._subplots.AxesSubplot at 0x12634b610>"
      ]
     },
     "execution_count": 375,
     "metadata": {},
     "output_type": "execute_result"
    },
    {
     "data": {
      "image/png": "[encoded data removed]",
      "text/plain": [
       "<Figure size 432x288 with 1 Axes>"
      ]
     },
     "metadata": {
      "needs_background": "light"
     },
     "output_type": "display_data"
    }
   ],
   "source": [
    "dfrand2 = dfrand1.pct_change()\n",
    "dfrand2.plot()"
   ]
  },
  {
   "cell_type": "code",
   "execution_count": 376,
   "metadata": {},
   "outputs": [],
   "source": [
    "randmean = dfrand2.mean() * 365\n",
    "randcov = dfrand2.cov() * 365"
   ]
  },
  {
   "cell_type": "code",
   "execution_count": 377,
   "metadata": {},
   "outputs": [
    {
     "data": {
      "text/plain": [
       "0    68.931521\n",
       "1    15.295905\n",
       "2    22.408380\n",
       "dtype: float64"
      ]
     },
     "execution_count": 377,
     "metadata": {},
     "output_type": "execute_result"
    }
   ],
   "source": [
    "levrand = inv(randcov).dot(randmean)\n",
    "kc = pd.Series(levrand)\n",
    "kc"
   ]
  },
  {
   "cell_type": "markdown",
   "metadata": {},
   "source": [
    "Above are the Kelly leverages for our Brownian motion \"stocks\"."
   ]
  }
 ],
 "metadata": {
  "kernelspec": {
   "display_name": "Python 3",
   "language": "python",
   "name": "python3"
  },
  "language_info": {
   "codemirror_mode": {
    "name": "ipython",
    "version": 3
   },
   "file_extension": ".py",
   "mimetype": "text/x-python",
   "name": "python",
   "nbconvert_exporter": "python",
   "pygments_lexer": "ipython3",
   "version": "3.7.7"
  }
 },
 "nbformat": 4,
 "nbformat_minor": 4
}
